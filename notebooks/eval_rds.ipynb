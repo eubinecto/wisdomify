{
 "cells": [
  {
   "cell_type": "code",
   "execution_count": 1,
   "metadata": {
    "collapsed": true
   },
   "outputs": [
    {
     "name": "stdout",
     "output_type": "stream",
     "text": [
      "\u001B[34m\u001B[1mwandb\u001B[0m: Currently logged in as: \u001B[33mwisdomify\u001B[0m (use `wandb login --relogin` to force relogin)\r\n",
      "\u001B[34m\u001B[1mwandb\u001B[0m: wandb version 0.12.6 is available!  To upgrade, please run:\r\n",
      "\u001B[34m\u001B[1mwandb\u001B[0m:  $ pip install wandb --upgrade\r\n",
      "\u001B[34m\u001B[1mwandb\u001B[0m: Tracking run with wandb version 0.12.4\r\n",
      "\u001B[34m\u001B[1mwandb\u001B[0m: Syncing run \u001B[33mwisdomify.main.eval\u001B[0m\r\n",
      "\u001B[34m\u001B[1mwandb\u001B[0m:  View project at \u001B[34m\u001B[4mhttps://wandb.ai/wisdomify/wisdomify\u001B[0m\r\n",
      "\u001B[34m\u001B[1mwandb\u001B[0m:  View run at \u001B[34m\u001B[4mhttps://wandb.ai/wisdomify/wisdomify/runs/18wzbb9d\u001B[0m\r\n",
      "\u001B[34m\u001B[1mwandb\u001B[0m: Run data is saved locally in /Users/eubinecto/Desktop/Projects/Big/wisdomify/wandb/run-20211108_191041-18wzbb9d\r\n",
      "\u001B[34m\u001B[1mwandb\u001B[0m: Run `wandb offline` to turn off syncing.\r\n",
      "\r\n",
      "\u001B[34m\u001B[1mwandb\u001B[0m: Downloading large artifact rd_alpha:v0, 416.39MB. 5 files... Done. 0:0:0\r\n",
      "GPU available: False, used: False\r\n",
      "TPU available: False, using: 0 TPU cores\r\n",
      "Testing: 100%|████████████████████████████████████| 8/8 [00:15<00:00,  1.97s/it]\r\n",
      "--------------------------------------------------------------------------------\r\n",
      "DATALOADER:0 TEST RESULTS\r\n",
      "{'Test/Rank Mean': 3.1,\r\n",
      " 'Test/Rank Median': 2.0,\r\n",
      " 'Test/Rank Standard Deviation': 2.6121510931286758,\r\n",
      " 'Test/Top 1 Accuracy': 0.1666666716337204,\r\n",
      " 'Test/Top 3 Accuracy': 0.5333333611488342,\r\n",
      " 'Test/Top 5 Accuracy': 0.7666666507720947}\r\n",
      "--------------------------------------------------------------------------------\r\n",
      "\r\n",
      "\u001B[34m\u001B[1mwandb\u001B[0m: Waiting for W&B process to finish, PID 24044... (success).\r\n",
      "\u001B[34m\u001B[1mwandb\u001B[0m:                                                                                \r\n",
      "\u001B[34m\u001B[1mwandb\u001B[0m: Run history:\r\n",
      "\u001B[34m\u001B[1mwandb\u001B[0m:                 Test/Rank Mean ▁\r\n",
      "\u001B[34m\u001B[1mwandb\u001B[0m:               Test/Rank Median ▁\r\n",
      "\u001B[34m\u001B[1mwandb\u001B[0m:   Test/Rank Standard Deviation ▁\r\n",
      "\u001B[34m\u001B[1mwandb\u001B[0m:            Test/Top 1 Accuracy ▁\r\n",
      "\u001B[34m\u001B[1mwandb\u001B[0m:            Test/Top 3 Accuracy ▁\r\n",
      "\u001B[34m\u001B[1mwandb\u001B[0m:            Test/Top 5 Accuracy ▁\r\n",
      "\u001B[34m\u001B[1mwandb\u001B[0m:                          epoch ▁\r\n",
      "\u001B[34m\u001B[1mwandb\u001B[0m:            trainer/global_step ▁\r\n",
      "\u001B[34m\u001B[1mwandb\u001B[0m: \r\n",
      "\u001B[34m\u001B[1mwandb\u001B[0m: Run summary:\r\n",
      "\u001B[34m\u001B[1mwandb\u001B[0m:                 Test/Rank Mean 3.1\r\n",
      "\u001B[34m\u001B[1mwandb\u001B[0m:               Test/Rank Median 2.0\r\n",
      "\u001B[34m\u001B[1mwandb\u001B[0m:   Test/Rank Standard Deviation 2.61215\r\n",
      "\u001B[34m\u001B[1mwandb\u001B[0m:            Test/Top 1 Accuracy 0.16667\r\n",
      "\u001B[34m\u001B[1mwandb\u001B[0m:            Test/Top 3 Accuracy 0.53333\r\n",
      "\u001B[34m\u001B[1mwandb\u001B[0m:            Test/Top 5 Accuracy 0.76667\r\n",
      "\u001B[34m\u001B[1mwandb\u001B[0m:                          epoch 0\r\n",
      "\u001B[34m\u001B[1mwandb\u001B[0m:            trainer/global_step 0\r\n",
      "\u001B[34m\u001B[1mwandb\u001B[0m: \r\n",
      "\u001B[34m\u001B[1mwandb\u001B[0m: Synced 6 W&B file(s), 0 media file(s), 0 artifact file(s) and 1 other file(s)\r\n",
      "\u001B[34m\u001B[1mwandb\u001B[0m: Synced \u001B[33mwisdomify.main.eval\u001B[0m: \u001B[34mhttps://wandb.ai/wisdomify/wisdomify/runs/18wzbb9d\u001B[0m\r\n",
      "\u001B[34m\u001B[1mwandb\u001B[0m: Find logs at: /Users/eubinecto/Desktop/Projects/Big/wisdomify/wandb/run-20211108_191041-18wzbb9d/logs/debug.log\r\n",
      "\u001B[34m\u001B[1mwandb\u001B[0m: \r\n"
     ]
    }
   ],
   "source": [
    "!python3 -m wisdomify.main.eval --model=rd_alpha --ver=v0"
   ]
  },
  {
   "cell_type": "code",
   "execution_count": 2,
   "outputs": [
    {
     "name": "stdout",
     "output_type": "stream",
     "text": [
      "\u001B[34m\u001B[1mwandb\u001B[0m: Currently logged in as: \u001B[33mwisdomify\u001B[0m (use `wandb login --relogin` to force relogin)\r\n",
      "\u001B[34m\u001B[1mwandb\u001B[0m: wandb version 0.12.6 is available!  To upgrade, please run:\r\n",
      "\u001B[34m\u001B[1mwandb\u001B[0m:  $ pip install wandb --upgrade\r\n",
      "\u001B[34m\u001B[1mwandb\u001B[0m: Tracking run with wandb version 0.12.4\r\n",
      "\u001B[34m\u001B[1mwandb\u001B[0m: Syncing run \u001B[33mwisdomify.main.eval\u001B[0m\r\n",
      "\u001B[34m\u001B[1mwandb\u001B[0m:  View project at \u001B[34m\u001B[4mhttps://wandb.ai/wisdomify/wisdomify\u001B[0m\r\n",
      "\u001B[34m\u001B[1mwandb\u001B[0m:  View run at \u001B[34m\u001B[4mhttps://wandb.ai/wisdomify/wisdomify/runs/c9o5j6fx\u001B[0m\r\n",
      "\u001B[34m\u001B[1mwandb\u001B[0m: Run data is saved locally in /Users/eubinecto/Desktop/Projects/Big/wisdomify/wandb/run-20211108_191117-c9o5j6fx\r\n",
      "\u001B[34m\u001B[1mwandb\u001B[0m: Run `wandb offline` to turn off syncing.\r\n",
      "\r\n",
      "\u001B[34m\u001B[1mwandb\u001B[0m: Downloading large artifact rd_beta:v0, 420.93MB. 6 files... Done. 0:0:0\r\n",
      "GPU available: False, used: False\r\n",
      "TPU available: False, using: 0 TPU cores\r\n",
      "Testing: 100%|████████████████████████████████████| 8/8 [00:15<00:00,  1.92s/it]\r\n",
      "--------------------------------------------------------------------------------\r\n",
      "DATALOADER:0 TEST RESULTS\r\n",
      "{'Test/Rank Mean': 3.1666666666666665,\r\n",
      " 'Test/Rank Median': 2.5,\r\n",
      " 'Test/Rank Standard Deviation': 2.5830645021412497,\r\n",
      " 'Test/Top 1 Accuracy': 0.1666666716337204,\r\n",
      " 'Test/Top 3 Accuracy': 0.5,\r\n",
      " 'Test/Top 5 Accuracy': 0.699999988079071}\r\n",
      "--------------------------------------------------------------------------------\r\n",
      "\r\n",
      "\u001B[34m\u001B[1mwandb\u001B[0m: Waiting for W&B process to finish, PID 24142... (success).\r\n",
      "\u001B[34m\u001B[1mwandb\u001B[0m:                                                                                \r\n",
      "\u001B[34m\u001B[1mwandb\u001B[0m: Run history:\r\n",
      "\u001B[34m\u001B[1mwandb\u001B[0m:                 Test/Rank Mean ▁\r\n",
      "\u001B[34m\u001B[1mwandb\u001B[0m:               Test/Rank Median ▁\r\n",
      "\u001B[34m\u001B[1mwandb\u001B[0m:   Test/Rank Standard Deviation ▁\r\n",
      "\u001B[34m\u001B[1mwandb\u001B[0m:            Test/Top 1 Accuracy ▁\r\n",
      "\u001B[34m\u001B[1mwandb\u001B[0m:            Test/Top 3 Accuracy ▁\r\n",
      "\u001B[34m\u001B[1mwandb\u001B[0m:            Test/Top 5 Accuracy ▁\r\n",
      "\u001B[34m\u001B[1mwandb\u001B[0m:                          epoch ▁\r\n",
      "\u001B[34m\u001B[1mwandb\u001B[0m:            trainer/global_step ▁\r\n",
      "\u001B[34m\u001B[1mwandb\u001B[0m: \r\n",
      "\u001B[34m\u001B[1mwandb\u001B[0m: Run summary:\r\n",
      "\u001B[34m\u001B[1mwandb\u001B[0m:                 Test/Rank Mean 3.16667\r\n",
      "\u001B[34m\u001B[1mwandb\u001B[0m:               Test/Rank Median 2.5\r\n",
      "\u001B[34m\u001B[1mwandb\u001B[0m:   Test/Rank Standard Deviation 2.58306\r\n",
      "\u001B[34m\u001B[1mwandb\u001B[0m:            Test/Top 1 Accuracy 0.16667\r\n",
      "\u001B[34m\u001B[1mwandb\u001B[0m:            Test/Top 3 Accuracy 0.5\r\n",
      "\u001B[34m\u001B[1mwandb\u001B[0m:            Test/Top 5 Accuracy 0.7\r\n",
      "\u001B[34m\u001B[1mwandb\u001B[0m:                          epoch 0\r\n",
      "\u001B[34m\u001B[1mwandb\u001B[0m:            trainer/global_step 0\r\n",
      "\u001B[34m\u001B[1mwandb\u001B[0m: \r\n",
      "\u001B[34m\u001B[1mwandb\u001B[0m: Synced 6 W&B file(s), 0 media file(s), 0 artifact file(s) and 1 other file(s)\r\n",
      "\u001B[34m\u001B[1mwandb\u001B[0m: Synced \u001B[33mwisdomify.main.eval\u001B[0m: \u001B[34mhttps://wandb.ai/wisdomify/wisdomify/runs/c9o5j6fx\u001B[0m\r\n",
      "\u001B[34m\u001B[1mwandb\u001B[0m: Find logs at: /Users/eubinecto/Desktop/Projects/Big/wisdomify/wandb/run-20211108_191117-c9o5j6fx/logs/debug.log\r\n",
      "\u001B[34m\u001B[1mwandb\u001B[0m: \r\n"
     ]
    }
   ],
   "source": [
    "!python3 -m wisdomify.main.eval --model=rd_beta --ver=v0"
   ],
   "metadata": {
    "collapsed": false,
    "pycharm": {
     "name": "#%%\n"
    }
   }
  },
  {
   "cell_type": "code",
   "execution_count": 3,
   "outputs": [
    {
     "name": "stdout",
     "output_type": "stream",
     "text": [
      "\u001B[34m\u001B[1mwandb\u001B[0m: Currently logged in as: \u001B[33mwisdomify\u001B[0m (use `wandb login --relogin` to force relogin)\r\n",
      "\u001B[34m\u001B[1mwandb\u001B[0m: wandb version 0.12.6 is available!  To upgrade, please run:\r\n",
      "\u001B[34m\u001B[1mwandb\u001B[0m:  $ pip install wandb --upgrade\r\n",
      "\u001B[34m\u001B[1mwandb\u001B[0m: Tracking run with wandb version 0.12.4\r\n",
      "\u001B[34m\u001B[1mwandb\u001B[0m: Syncing run \u001B[33mwisdomify.main.eval\u001B[0m\r\n",
      "\u001B[34m\u001B[1mwandb\u001B[0m:  View project at \u001B[34m\u001B[4mhttps://wandb.ai/wisdomify/wisdomify\u001B[0m\r\n",
      "\u001B[34m\u001B[1mwandb\u001B[0m:  View run at \u001B[34m\u001B[4mhttps://wandb.ai/wisdomify/wisdomify/runs/2ixhj2gu\u001B[0m\r\n",
      "\u001B[34m\u001B[1mwandb\u001B[0m: Run data is saved locally in /Users/eubinecto/Desktop/Projects/Big/wisdomify/wandb/run-20211108_191154-2ixhj2gu\r\n",
      "\u001B[34m\u001B[1mwandb\u001B[0m: Run `wandb offline` to turn off syncing.\r\n",
      "\r\n",
      "\u001B[34m\u001B[1mwandb\u001B[0m: Downloading large artifact rd_alpha:v1, 416.39MB. 5 files... Done. 0:0:0\r\n",
      "GPU available: False, used: False\r\n",
      "TPU available: False, using: 0 TPU cores\r\n",
      "Testing: 100%|████████████████████████████████████| 8/8 [00:14<00:00,  1.82s/it]\r\n",
      "--------------------------------------------------------------------------------\r\n",
      "DATALOADER:0 TEST RESULTS\r\n",
      "{'Test/Rank Mean': 2.2,\r\n",
      " 'Test/Rank Median': 1.0,\r\n",
      " 'Test/Rank Standard Deviation': 2.5742312768410427,\r\n",
      " 'Test/Top 1 Accuracy': 0.3333333432674408,\r\n",
      " 'Test/Top 3 Accuracy': 0.6333333253860474,\r\n",
      " 'Test/Top 5 Accuracy': 0.800000011920929}\r\n",
      "--------------------------------------------------------------------------------\r\n",
      "\r\n",
      "\u001B[34m\u001B[1mwandb\u001B[0m: Waiting for W&B process to finish, PID 24227... (success).\r\n",
      "\u001B[34m\u001B[1mwandb\u001B[0m:                                                                                \r\n",
      "\u001B[34m\u001B[1mwandb\u001B[0m: Run history:\r\n",
      "\u001B[34m\u001B[1mwandb\u001B[0m:                 Test/Rank Mean ▁\r\n",
      "\u001B[34m\u001B[1mwandb\u001B[0m:               Test/Rank Median ▁\r\n",
      "\u001B[34m\u001B[1mwandb\u001B[0m:   Test/Rank Standard Deviation ▁\r\n",
      "\u001B[34m\u001B[1mwandb\u001B[0m:            Test/Top 1 Accuracy ▁\r\n",
      "\u001B[34m\u001B[1mwandb\u001B[0m:            Test/Top 3 Accuracy ▁\r\n",
      "\u001B[34m\u001B[1mwandb\u001B[0m:            Test/Top 5 Accuracy ▁\r\n",
      "\u001B[34m\u001B[1mwandb\u001B[0m:                          epoch ▁\r\n",
      "\u001B[34m\u001B[1mwandb\u001B[0m:            trainer/global_step ▁\r\n",
      "\u001B[34m\u001B[1mwandb\u001B[0m: \r\n",
      "\u001B[34m\u001B[1mwandb\u001B[0m: Run summary:\r\n",
      "\u001B[34m\u001B[1mwandb\u001B[0m:                 Test/Rank Mean 2.2\r\n",
      "\u001B[34m\u001B[1mwandb\u001B[0m:               Test/Rank Median 1.0\r\n",
      "\u001B[34m\u001B[1mwandb\u001B[0m:   Test/Rank Standard Deviation 2.57423\r\n",
      "\u001B[34m\u001B[1mwandb\u001B[0m:            Test/Top 1 Accuracy 0.33333\r\n",
      "\u001B[34m\u001B[1mwandb\u001B[0m:            Test/Top 3 Accuracy 0.63333\r\n",
      "\u001B[34m\u001B[1mwandb\u001B[0m:            Test/Top 5 Accuracy 0.8\r\n",
      "\u001B[34m\u001B[1mwandb\u001B[0m:                          epoch 0\r\n",
      "\u001B[34m\u001B[1mwandb\u001B[0m:            trainer/global_step 0\r\n",
      "\u001B[34m\u001B[1mwandb\u001B[0m: \r\n",
      "\u001B[34m\u001B[1mwandb\u001B[0m: Synced 6 W&B file(s), 0 media file(s), 0 artifact file(s) and 1 other file(s)\r\n",
      "\u001B[34m\u001B[1mwandb\u001B[0m: Synced \u001B[33mwisdomify.main.eval\u001B[0m: \u001B[34mhttps://wandb.ai/wisdomify/wisdomify/runs/2ixhj2gu\u001B[0m\r\n",
      "\u001B[34m\u001B[1mwandb\u001B[0m: Find logs at: /Users/eubinecto/Desktop/Projects/Big/wisdomify/wandb/run-20211108_191154-2ixhj2gu/logs/debug.log\r\n",
      "\u001B[34m\u001B[1mwandb\u001B[0m: \r\n"
     ]
    }
   ],
   "source": [
    "!python3 -m wisdomify.main.eval --model=rd_alpha --ver=v1"
   ],
   "metadata": {
    "collapsed": false,
    "pycharm": {
     "name": "#%%\n"
    }
   }
  },
  {
   "cell_type": "code",
   "execution_count": 4,
   "outputs": [
    {
     "name": "stdout",
     "output_type": "stream",
     "text": [
      "\u001B[34m\u001B[1mwandb\u001B[0m: Currently logged in as: \u001B[33mwisdomify\u001B[0m (use `wandb login --relogin` to force relogin)\r\n",
      "\u001B[34m\u001B[1mwandb\u001B[0m: wandb version 0.12.6 is available!  To upgrade, please run:\r\n",
      "\u001B[34m\u001B[1mwandb\u001B[0m:  $ pip install wandb --upgrade\r\n",
      "\u001B[34m\u001B[1mwandb\u001B[0m: Tracking run with wandb version 0.12.4\r\n",
      "\u001B[34m\u001B[1mwandb\u001B[0m: Syncing run \u001B[33mwisdomify.main.eval\u001B[0m\r\n",
      "\u001B[34m\u001B[1mwandb\u001B[0m:  View project at \u001B[34m\u001B[4mhttps://wandb.ai/wisdomify/wisdomify\u001B[0m\r\n",
      "\u001B[34m\u001B[1mwandb\u001B[0m:  View run at \u001B[34m\u001B[4mhttps://wandb.ai/wisdomify/wisdomify/runs/27ukmz99\u001B[0m\r\n",
      "\u001B[34m\u001B[1mwandb\u001B[0m: Run data is saved locally in /Users/eubinecto/Desktop/Projects/Big/wisdomify/wandb/run-20211108_191230-27ukmz99\r\n",
      "\u001B[34m\u001B[1mwandb\u001B[0m: Run `wandb offline` to turn off syncing.\r\n",
      "\r\n",
      "\u001B[34m\u001B[1mwandb\u001B[0m: Downloading large artifact rd_beta:v1, 420.93MB. 6 files... Done. 0:0:0\r\n",
      "GPU available: False, used: False\r\n",
      "TPU available: False, using: 0 TPU cores\r\n",
      "Testing: 100%|████████████████████████████████████| 8/8 [00:14<00:00,  1.86s/it]\r\n",
      "--------------------------------------------------------------------------------\r\n",
      "DATALOADER:0 TEST RESULTS\r\n",
      "{'Test/Rank Mean': 2.2333333333333334,\r\n",
      " 'Test/Rank Median': 1.0,\r\n",
      " 'Test/Rank Standard Deviation': 2.577897506798041,\r\n",
      " 'Test/Top 1 Accuracy': 0.30000001192092896,\r\n",
      " 'Test/Top 3 Accuracy': 0.699999988079071,\r\n",
      " 'Test/Top 5 Accuracy': 0.8333333134651184}\r\n",
      "--------------------------------------------------------------------------------\r\n",
      "\r\n",
      "\u001B[34m\u001B[1mwandb\u001B[0m: Waiting for W&B process to finish, PID 24308... (success).\r\n",
      "\u001B[34m\u001B[1mwandb\u001B[0m:                                                                                \r\n",
      "\u001B[34m\u001B[1mwandb\u001B[0m: Run history:\r\n",
      "\u001B[34m\u001B[1mwandb\u001B[0m:                 Test/Rank Mean ▁\r\n",
      "\u001B[34m\u001B[1mwandb\u001B[0m:               Test/Rank Median ▁\r\n",
      "\u001B[34m\u001B[1mwandb\u001B[0m:   Test/Rank Standard Deviation ▁\r\n",
      "\u001B[34m\u001B[1mwandb\u001B[0m:            Test/Top 1 Accuracy ▁\r\n",
      "\u001B[34m\u001B[1mwandb\u001B[0m:            Test/Top 3 Accuracy ▁\r\n",
      "\u001B[34m\u001B[1mwandb\u001B[0m:            Test/Top 5 Accuracy ▁\r\n",
      "\u001B[34m\u001B[1mwandb\u001B[0m:                          epoch ▁\r\n",
      "\u001B[34m\u001B[1mwandb\u001B[0m:            trainer/global_step ▁\r\n",
      "\u001B[34m\u001B[1mwandb\u001B[0m: \r\n",
      "\u001B[34m\u001B[1mwandb\u001B[0m: Run summary:\r\n",
      "\u001B[34m\u001B[1mwandb\u001B[0m:                 Test/Rank Mean 2.23333\r\n",
      "\u001B[34m\u001B[1mwandb\u001B[0m:               Test/Rank Median 1.0\r\n",
      "\u001B[34m\u001B[1mwandb\u001B[0m:   Test/Rank Standard Deviation 2.5779\r\n",
      "\u001B[34m\u001B[1mwandb\u001B[0m:            Test/Top 1 Accuracy 0.3\r\n",
      "\u001B[34m\u001B[1mwandb\u001B[0m:            Test/Top 3 Accuracy 0.7\r\n",
      "\u001B[34m\u001B[1mwandb\u001B[0m:            Test/Top 5 Accuracy 0.83333\r\n",
      "\u001B[34m\u001B[1mwandb\u001B[0m:                          epoch 0\r\n",
      "\u001B[34m\u001B[1mwandb\u001B[0m:            trainer/global_step 0\r\n",
      "\u001B[34m\u001B[1mwandb\u001B[0m: \r\n",
      "\u001B[34m\u001B[1mwandb\u001B[0m: Synced 6 W&B file(s), 0 media file(s), 0 artifact file(s) and 1 other file(s)\r\n",
      "\u001B[34m\u001B[1mwandb\u001B[0m: Synced \u001B[33mwisdomify.main.eval\u001B[0m: \u001B[34mhttps://wandb.ai/wisdomify/wisdomify/runs/27ukmz99\u001B[0m\r\n",
      "\u001B[34m\u001B[1mwandb\u001B[0m: Find logs at: /Users/eubinecto/Desktop/Projects/Big/wisdomify/wandb/run-20211108_191230-27ukmz99/logs/debug.log\r\n",
      "\u001B[34m\u001B[1mwandb\u001B[0m: \r\n"
     ]
    }
   ],
   "source": [
    "!python3 -m wisdomify.main.eval --model=rd_beta --ver=v1\n"
   ],
   "metadata": {
    "collapsed": false,
    "pycharm": {
     "name": "#%%\n"
    }
   }
  }
 ],
 "metadata": {
  "kernelspec": {
   "display_name": "Python 3",
   "language": "python",
   "name": "python3"
  },
  "language_info": {
   "codemirror_mode": {
    "name": "ipython",
    "version": 2
   },
   "file_extension": ".py",
   "mimetype": "text/x-python",
   "name": "python",
   "nbconvert_exporter": "python",
   "pygments_lexer": "ipython2",
   "version": "2.7.6"
  }
 },
 "nbformat": 4,
 "nbformat_minor": 0
}